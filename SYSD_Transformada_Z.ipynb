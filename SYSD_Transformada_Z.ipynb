{
  "nbformat": 4,
  "nbformat_minor": 0,
  "metadata": {
    "colab": {
      "provenance": []
    },
    "kernelspec": {
      "name": "python3",
      "display_name": "Python 3"
    },
    "language_info": {
      "name": "python"
    }
  },
  "cells": [
    {
      "cell_type": "markdown",
      "source": [
        "#**TRANSFORMADA Z**\n",
        "\n",
        "\n",
        "---\n",
        "\n",
        "\n",
        "Elaborado por Javier Chaparro"
      ],
      "metadata": {
        "id": "6PSMgynILFSN"
      }
    },
    {
      "cell_type": "markdown",
      "source": [
        "A continuación se utilizan librerías de Python para :\n",
        "1. Definir una función de transferencia, ocualquier otra función en el dominio de z.\n",
        "2. Calcular los polos y ceros de la función.\n",
        "3. Obtener la respuesta al impulso, es decir, la transformada inversa de H(z)\n",
        "4. Obtener la respuesta a la señal escalón.\n",
        "5. Obtener la salida ante una entrada arbitraria."
      ],
      "metadata": {
        "id": "iUuJ_G1K5hgU"
      }
    },
    {
      "cell_type": "markdown",
      "source": [
        "Para explicar los puntos anteriores se utilizará una función de ejemplo. Es este caso sera:\n",
        "$$\n",
        "H_1(z)=\\frac{1}{z{^2}-\\sqrt(2)z+1}\n",
        "$$\n",
        "Esta función de transferencia se utilizó en clase. Esta conformada por dos polos complejos conjuados ubicados sobre el círculo de radio unitario y ángulo de π/4 y -π/4. Es decir:\n",
        "\n",
        "$$\n",
        "p_1=0.707 + 0.707i\n",
        "$$\n",
        "$$\n",
        "p_2=0.707 - 0.707i\n",
        "$$"
      ],
      "metadata": {
        "id": "x9imrCWFLTTG"
      }
    },
    {
      "cell_type": "markdown",
      "source": [
        "Se importan las librerias necesarias"
      ],
      "metadata": {
        "id": "PFJQIF4fLOtD"
      }
    },
    {
      "cell_type": "code",
      "execution_count": 1,
      "metadata": {
        "id": "p3kiF7dUDtzg"
      },
      "outputs": [],
      "source": [
        "from scipy import signal\n",
        "import matplotlib.pyplot as plt\n",
        "import numpy as np"
      ]
    },
    {
      "cell_type": "markdown",
      "source": [
        "#**Primer ejemplo**"
      ],
      "metadata": {
        "id": "-NovOMVyBq2x"
      }
    },
    {
      "cell_type": "markdown",
      "source": [
        "## Función de transferencia"
      ],
      "metadata": {
        "id": "WP9_kshsA661"
      }
    },
    {
      "cell_type": "markdown",
      "source": [
        "Se declara la función de transferencia"
      ],
      "metadata": {
        "id": "WXAS4EPc8gKX"
      }
    },
    {
      "cell_type": "code",
      "source": [
        "# Los polinomios del numerador y denominador son:\n",
        "num=[1]\n",
        "dem=[1,-1.4142,1]\n",
        "# Se declara la función de transferencia con la función dlti\n",
        "Hz=signal.dlti(num, dem, dt=1)"
      ],
      "metadata": {
        "id": "6ROcsyAOENW2"
      },
      "execution_count": 3,
      "outputs": []
    },
    {
      "cell_type": "markdown",
      "source": [
        "Se verifican los polos y ceros de H(z)"
      ],
      "metadata": {
        "id": "NgXLmDlt9DIl"
      }
    },
    {
      "cell_type": "code",
      "source": [
        "# Polos de H(z)\n",
        "Hz.poles"
      ],
      "metadata": {
        "colab": {
          "base_uri": "https://localhost:8080/"
        },
        "id": "Eg1edoTAEwQ3",
        "outputId": "93624c36-1c10-4a2e-aea8-49fe071cefce"
      },
      "execution_count": 4,
      "outputs": [
        {
          "output_type": "execute_result",
          "data": {
            "text/plain": [
              "array([0.7071+0.70711356j, 0.7071-0.70711356j])"
            ]
          },
          "metadata": {},
          "execution_count": 4
        }
      ]
    },
    {
      "cell_type": "code",
      "source": [
        "# Zeros de H(z)\n",
        "Hz.zeros"
      ],
      "metadata": {
        "colab": {
          "base_uri": "https://localhost:8080/"
        },
        "id": "LZ-bkBWd9HY0",
        "outputId": "43075614-6a1a-4e17-e1c0-fe50b1487a6d"
      },
      "execution_count": 5,
      "outputs": [
        {
          "output_type": "execute_result",
          "data": {
            "text/plain": [
              "array([], dtype=float64)"
            ]
          },
          "metadata": {},
          "execution_count": 5
        }
      ]
    },
    {
      "cell_type": "markdown",
      "source": [
        "Se puede evidenciar que los polos estan ubicados sobre el circulo unitario y son complejos conjugados. No tiene ceros."
      ],
      "metadata": {
        "id": "uQujsEg4MDAv"
      }
    },
    {
      "cell_type": "code",
      "source": [
        "print('Magnitud de los polos : ',np.abs(Hz.poles))\n",
        "print('Ángulo de los polos : ',(180/np.pi)*np.angle(Hz.poles))"
      ],
      "metadata": {
        "colab": {
          "base_uri": "https://localhost:8080/"
        },
        "id": "DoniZM3ZMgYt",
        "outputId": "554b6fcd-4b2f-4d8d-e864-30070dba5c66"
      },
      "execution_count": 9,
      "outputs": [
        {
          "output_type": "stream",
          "name": "stdout",
          "text": [
            "Magnitud de los polos :  [1. 1.]\n",
            "Ángulo de los polos :  [ 45.00054947 -45.00054947]\n"
          ]
        }
      ]
    },
    {
      "cell_type": "markdown",
      "source": [
        "## Respuesta al Impulso"
      ],
      "metadata": {
        "id": "0YZ-5PvKAtvt"
      }
    },
    {
      "cell_type": "markdown",
      "source": [
        "Utilizando la función de transferencia anterior se calculará la respuesta al impulso:"
      ],
      "metadata": {
        "id": "tI9fN4DzNpbN"
      }
    },
    {
      "cell_type": "code",
      "source": [
        "t, y = signal.dimpulse(Hz, n=25)\n",
        "h=y[0][:]\n",
        "plt.stem(h)"
      ],
      "metadata": {
        "colab": {
          "base_uri": "https://localhost:8080/",
          "height": 448
        },
        "id": "OPRNNk5DE2Kf",
        "outputId": "c386b5b6-0810-46de-ed59-2ca4eee3bc90"
      },
      "execution_count": null,
      "outputs": [
        {
          "output_type": "execute_result",
          "data": {
            "text/plain": [
              "<StemContainer object of 3 artists>"
            ]
          },
          "metadata": {},
          "execution_count": 39
        },
        {
          "output_type": "display_data",
          "data": {
            "text/plain": [
              "<Figure size 640x480 with 1 Axes>"
            ],
            "image/png": "[encoded data removed]"
          },
          "metadata": {}
        }
      ]
    },
    {
      "cell_type": "markdown",
      "source": [
        "La gráfica demuestra que la respuesta impulsiva de la función de transferencia corresponde a un sistema oscilatorio."
      ],
      "metadata": {
        "id": "XAbTL4I2BIXs"
      }
    },
    {
      "cell_type": "markdown",
      "source": [
        "Para verificar la respuesta anterior se puede calcular la transformada inversa de H(z), recuerde que si la entrada es un impulso unitario, $x(n)$=$δ(n)$ su transformada Z será $X(Z)=1$, por lo tanto la salida se calcula como:\n",
        "\n",
        "$$\n",
        "Y(z)=X(Z)H(Z)=H(z)\n",
        "$$\n",
        "\n",
        "Y de esta forma la respuesta al impulso $h(n)$ será la transformada inversa de $H(z)$. En un ejercicio en clase se obtuve mediante la división de los polinomios que la conforman.\n"
      ],
      "metadata": {
        "id": "bGi2RNtR_lmM"
      }
    },
    {
      "cell_type": "markdown",
      "source": [
        "## Respuesta al Escalón"
      ],
      "metadata": {
        "id": "wSvFs-mNA1GI"
      }
    },
    {
      "cell_type": "code",
      "source": [
        "t, y = signal.dstep(Hz, n=25)\n",
        "s=y[0][:]\n",
        "plt.stem(t,s)"
      ],
      "metadata": {
        "colab": {
          "base_uri": "https://localhost:8080/",
          "height": 448
        },
        "id": "7Zh1czirJ8O_",
        "outputId": "8ad25761-b613-40cf-cb5b-c41f60468943"
      },
      "execution_count": null,
      "outputs": [
        {
          "output_type": "execute_result",
          "data": {
            "text/plain": [
              "<StemContainer object of 3 artists>"
            ]
          },
          "metadata": {},
          "execution_count": 41
        },
        {
          "output_type": "display_data",
          "data": {
            "text/plain": [
              "<Figure size 640x480 with 1 Axes>"
            ],
            "image/png": "[encoded data removed]"
          },
          "metadata": {}
        }
      ]
    },
    {
      "cell_type": "markdown",
      "source": [
        "Esta respuesta tambien es oscilatoria como era de esperarse en este tipo de sistema."
      ],
      "metadata": {
        "id": "rQiaIxlDBUA9"
      }
    },
    {
      "cell_type": "markdown",
      "source": [
        "\n",
        "\n",
        "---\n",
        "\n"
      ],
      "metadata": {
        "id": "dMKnbhXxByM3"
      }
    },
    {
      "cell_type": "markdown",
      "source": [
        "#**Segundo ejemplo**"
      ],
      "metadata": {
        "id": "q62RV3rdBhxQ"
      }
    },
    {
      "cell_type": "markdown",
      "source": [
        "El siguiente ejemplo se utiliza la función de transferencia:\n",
        "\n",
        "$$\n",
        "H_2(z)=\\frac{1}{1-0.5z^{-1}}\n",
        "$$"
      ],
      "metadata": {
        "id": "l2hQdIRtRgpZ"
      }
    },
    {
      "cell_type": "code",
      "source": [
        "# Declaración de la función\n",
        "num=[1]\n",
        "dem=[1,-0.5]\n",
        "Hz=signal.dlti(num, dem, dt=1)"
      ],
      "metadata": {
        "id": "zmTCltovKPgo"
      },
      "execution_count": null,
      "outputs": []
    },
    {
      "cell_type": "code",
      "source": [
        "# Respuesta al  impulso unitario\n",
        "t,y=signal.dimpulse(Hz,n=10)\n",
        "h=y[0][:]\n",
        "plt.stem(t,h)\n",
        "plt.grid()\n",
        "plt.title('Respuesta al impulso')"
      ],
      "metadata": {
        "colab": {
          "base_uri": "https://localhost:8080/",
          "height": 470
        },
        "id": "CkrATSE5KUNy",
        "outputId": "a1d8daf8-d3e5-4839-cd1f-cdd02fca1135"
      },
      "execution_count": null,
      "outputs": [
        {
          "output_type": "execute_result",
          "data": {
            "text/plain": [
              "Text(0.5, 1.0, 'Respuesta al impulso')"
            ]
          },
          "metadata": {},
          "execution_count": 49
        },
        {
          "output_type": "display_data",
          "data": {
            "text/plain": [
              "<Figure size 640x480 with 1 Axes>"
            ],
            "image/png": "[encoded data removed]"
          },
          "metadata": {}
        }
      ]
    },
    {
      "cell_type": "markdown",
      "source": [
        "En clase esta salida se obtuvo empleando la ecuación en diferencias que corresponde a esa función de transferencia. Su ecuación se obtiene de la forma:\n",
        "\n",
        "$$\n",
        "Y(Z)=X(Z)H(Z)=X(Z)\\frac{1}{1-0.5z^{-1}}\n",
        "$$\n",
        "\n",
        "$$\n",
        "Y(Z)[1-0.5z^{-1}]=X(Z)\n",
        "$$\n",
        "\n",
        "$$\n",
        "Y(Z)=X(Z)+0.5Y(Z)z^{-1}\n",
        "$$\n",
        "\n",
        "La transformada Z inversa de esta expresión es:\n",
        "$$\n",
        "y(n)=x(n) + 0.5y(n-1)\n",
        "$$\n",
        "\n",
        "El cálculo de la respuesta al impulso empleando esta ecuación en diferencias y lenguaje Python, ó lenguaje C, se puede hacer de la siguiente forma:"
      ],
      "metadata": {
        "id": "RcNoJkyZClw7"
      }
    },
    {
      "cell_type": "code",
      "source": [
        "# Se declara la entrada impulsiva\n",
        "x=[0,1,0,0,0,0,0,0,0,0]\n",
        "N=len(x)\n",
        "# Se crea un vector vacio para la salida\n",
        "y=np.zeros(N)\n",
        "# Se calcula la salida\n",
        "for n in range(1,N):\n",
        "  y[n]=x[n]+0.5*y[n-1]\n",
        "plt.stem(y)\n",
        "plt.title('Respuesta al impulso')"
      ],
      "metadata": {
        "colab": {
          "base_uri": "https://localhost:8080/",
          "height": 469
        },
        "id": "SHhZdDPyD0PI",
        "outputId": "c9bbd546-b4f1-4037-bddb-8df5892cb5f7"
      },
      "execution_count": 18,
      "outputs": [
        {
          "output_type": "execute_result",
          "data": {
            "text/plain": [
              "Text(0.5, 1.0, 'Respuesta al impulso')"
            ]
          },
          "metadata": {},
          "execution_count": 18
        },
        {
          "output_type": "display_data",
          "data": {
            "text/plain": [
              "<Figure size 640x480 with 1 Axes>"
            ],
            "image/png": "[encoded data removed]"
          },
          "metadata": {}
        }
      ]
    },
    {
      "cell_type": "markdown",
      "source": [
        "Se puede observar que esta gráfica es similar a la anterior."
      ],
      "metadata": {
        "id": "NNmNEFL4FKTJ"
      }
    },
    {
      "cell_type": "markdown",
      "source": [
        "##Respuesta del sistema ante una entrada arbitraria"
      ],
      "metadata": {
        "id": "lV1Hn9H4TvyJ"
      }
    },
    {
      "cell_type": "code",
      "source": [
        "# Creación de la entrada arbitraria\n",
        "N=21\n",
        "n= np.arange(0,N,1)\n",
        "u= np.zeros(N)\n",
        "u[2]=1\n",
        "u[3]=4\n",
        "plt.stem(n,u)"
      ],
      "metadata": {
        "colab": {
          "base_uri": "https://localhost:8080/",
          "height": 447
        },
        "id": "PGXPP3oxUOkr",
        "outputId": "2fbd7cfd-9632-4fba-d845-a3635097291a"
      },
      "execution_count": 22,
      "outputs": [
        {
          "output_type": "execute_result",
          "data": {
            "text/plain": [
              "<StemContainer object of 3 artists>"
            ]
          },
          "metadata": {},
          "execution_count": 22
        },
        {
          "output_type": "display_data",
          "data": {
            "text/plain": [
              "<Figure size 640x480 with 1 Axes>"
            ],
            "image/png": "[encoded data removed]"
          },
          "metadata": {}
        }
      ]
    },
    {
      "cell_type": "code",
      "source": [
        "# Se crea un objeto de función de transferencia\n",
        "signal.tf=(num, dem, 1.0)"
      ],
      "metadata": {
        "id": "M-irQR2BUyS3"
      },
      "execution_count": 20,
      "outputs": []
    },
    {
      "cell_type": "code",
      "source": [
        "t_out, y = signal.dlsim(tf, u, t=n)\n",
        "plt.stem(t_out,y)"
      ],
      "metadata": {
        "colab": {
          "base_uri": "https://localhost:8080/",
          "height": 447
        },
        "id": "T1xIkHhLU75c",
        "outputId": "0ac52ef9-df9e-4e61-81db-37729abb6b3c"
      },
      "execution_count": 23,
      "outputs": [
        {
          "output_type": "execute_result",
          "data": {
            "text/plain": [
              "<StemContainer object of 3 artists>"
            ]
          },
          "metadata": {},
          "execution_count": 23
        },
        {
          "output_type": "display_data",
          "data": {
            "text/plain": [
              "<Figure size 640x480 with 1 Axes>"
            ],
            "image/png": "[encoded data removed]"
          },
          "metadata": {}
        }
      ]
    },
    {
      "cell_type": "markdown",
      "source": [
        "#**Taller**\n",
        "Este taller se debe hacer utilizando las librerias y funciones propuestas en este cuadernillo.\n",
        "\n",
        "1. Aplicar al sistema descrito en $H_2(Z)$ un entrada de tipo senosoidal de amplitud 1 y frecuencia 0.1 rad/seg. Obtener la gráfica de la entrada y la salida.\n",
        "2. Determine la función de transferencia, la respuesta del impulso y escalón unitario del sistema descrito por la ecuación en diferencia:\n",
        "$$\n",
        "y(n)=\\frac{1}{2}y(n-1)+2x(n)\n",
        "$$\n",
        "3. Obtener la respuesta impulsiva del sistema caracterizado por la siguiente función de transferencia:\n",
        "$$\n",
        "H(z)=\\frac{1}{1-1.5z^{-1}+0.5z^{-2}}\n",
        "$$"
      ],
      "metadata": {
        "id": "3BfhxRtyV0Cg"
      }
    }
  ]
}